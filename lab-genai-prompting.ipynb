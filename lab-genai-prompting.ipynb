{
 "cells": [
  {
   "cell_type": "markdown",
   "metadata": {
    "vscode": {
     "languageId": "plaintext"
    }
   },
   "source": [
    "# LAB | GenAI: Exploring Prompting Techniques for Customer Support Automation"
   ]
  },
  {
   "cell_type": "markdown",
   "metadata": {},
   "source": [
    "## Tasks\n",
    "\n",
    "**Objective:**\n",
    "\n",
    "Learn and apply different prompting techniques to improve the performance of a language model in generating customer support responses.\n",
    "\n",
    "**Business Case:**\n",
    "\n",
    "Imagine you are working for a company that provides a variety of services, including technical support, billing inquiries, and general customer service. Your task is to use a language model to automate responses to customer emails.\n",
    "\n",
    "**Dataset:**\n",
    "\n",
    "Download the FAQ of a company to do this exercise. Below you have a couple of examples, but feel free to find your own:\n",
    " - https://info.undp.org/erecruit/documents/FAQ.pdf\n",
    " - https://www.cambridgeenglish.org/Images/696254-faqs-digital-cambridge-english-qualifications.pdf\n",
    " - https://www.wscc.nt.ca/sites/default/files/documents/0009-518-Item-04-INDESIGN-FAQ-Template%203%20-%20MINUS%20FIRST%20QUESTION.pdf\n",
    "\n",
    "\n",
    "### Task 1\n",
    "\n",
    "Download and Read the PDF:\n",
    "\n",
    "  - Choose one of the provided FAQ PDFs or find your own relevant FAQ document.\n",
    "  - Read through the FAQ document carefully to understand the types of questions and answers it contains.\n",
    "  - Create Questions Based on the PDF ( you can use ChatGPT for this)\n",
    "    - Generate a list of potential customer questions that could be answered using the information from the FAQ PDF.\n",
    "    - Ensure your questions cover a variety of topics and difficulty levels found within the document.\n",
    "    - Generate Responses Using Different Prompting Techniques:\n",
    "\n",
    "Use a language model (such as ChatGPT) to generate responses to your questions.\n",
    "Experiment with different prompting techniques to see how they affect the quality of the responses."
   ]
  },
  {
   "cell_type": "code",
   "execution_count": 2,
   "metadata": {},
   "outputs": [
    {
     "name": "stdout",
     "output_type": "stream",
     "text": [
      "Requirement already satisfied: pymupdf in /opt/anaconda3/lib/python3.12/site-packages (1.25.2)\n",
      "Note: you may need to restart the kernel to use updated packages.\n"
     ]
    }
   ],
   "source": [
    "#pip install pymupdf"
   ]
  },
  {
   "cell_type": "code",
   "execution_count": 6,
   "metadata": {},
   "outputs": [
    {
     "name": "stdout",
     "output_type": "stream",
     "text": [
      " \n",
      " \n",
      " \n",
      "Frequently Asked Questions (FAQs)\n",
      " \n",
      "     UNDP’s eRecruit System\n",
      " \n",
      " \n",
      "July 2015 \n",
      " \n",
      "\n",
      " \n",
      " \n",
      "1 \n",
      "Frequently Asked Questions (FAQs)  \n",
      "FFFFREQUENTLY \n",
      "REQUENTLY \n",
      "REQUENTLY \n",
      "REQUENTLY AAAASKED \n",
      "SKED \n",
      "SKED \n",
      "SKED QQQQUESTIONS \n",
      "UESTIONS \n",
      "UESTIONS \n",
      "UESTIONS (FAQ\n",
      "(FAQ\n",
      "(FAQ\n",
      "(FAQSSSS))))    \n",
      "     UNDP’s eRecruit System \n",
      " \n",
      "General\n",
      "General\n",
      "General\n",
      "General    \n",
      "1.1 \n",
      " \n",
      "What is UNDP’s eRecruit system? \n",
      "UNDP’s eRecruit system is an online system that allows applicants to create a \n",
      "personal profile that can be updated regularly in order to submit applications for \n",
      "more than one advertised UNDP job posting.  \n",
      "1.2 \n",
      " \n",
      "How do I access UNDP’s eRecruit system? \n",
      "UNDP’s eRecruit system can be accessed through the following link: \n",
      "https://undpcareers.partneragencies.org/erecruit.html \n",
      "1.3\n",
      " \n",
      "What is process for applying for a job using UNDP’s eRecruit system?\n",
      "Application Process\n",
      "Application Process\n",
      "Application Process\n",
      "Application Process    \n",
      " \n",
      " \n",
      " \n",
      " \n",
      " \n",
      " \n",
      " \n",
      " \n",
      " \n",
      " \n",
      " \n",
      " \n",
      " \n",
      " \n",
      " \n",
      "1 \n",
      "Register \n",
      "  \n",
      "3\n",
      "Complete \n",
      "Personal \n",
      "Informa\n"
     ]
    }
   ],
   "source": [
    "import fitz  # PyMuPDF\n",
    "\n",
    "def extract_text_from_pdf(pdf_path):\n",
    "    doc = fitz.open(pdf_path)\n",
    "    text = \"\"\n",
    "    for page in doc:\n",
    "        text += page.get_text(\"text\") + \"\\n\"\n",
    "    return text\n",
    "\n",
    "# Provide the correct path to your FAQ PDF\n",
    "pdf_path = \"/Users/paolarivera/Documents/Ironhack/Week 8/Day 1/lab-genai-prompting-master/FAQ_PDF.pdf\"\n",
    "faq_text = extract_text_from_pdf(pdf_path)\n",
    "\n",
    "# Save to a text file for easy reference\n",
    "with open(\"faq_text.txt\", \"w\", encoding=\"utf-8\") as f:\n",
    "    f.write(faq_text)\n",
    "\n",
    "print(faq_text[:1000])  # Print first 1000 characters to verify extraction"
   ]
  },
  {
   "cell_type": "code",
   "execution_count": 12,
   "metadata": {},
   "outputs": [
    {
     "name": "stdout",
     "output_type": "stream",
     "text": [
      "1. What is the purpose of UNDP’s eRecruit system?\n",
      "2. How can I access UNDP’s eRecruit system?\n",
      "3. Can you explain the process of applying for a job using UNDP’s eRecruit system?\n",
      "4. Is it mandatory to apply for jobs online using the UNDP’s eRecruit system?\n",
      "5. Which web browsers are compatible with UNDP’s eRecruit system?\n",
      "6. Can I submit paper applications or applications via email instead of using the eRecruit system?\n",
      "7. Can I apply for multiple jobs using my personal profile on UNDP’s eRecruit system?\n",
      "8. How can I complete my personal information in the UNDP eRecruit system?\n",
      "9. What is the requirement for the training and certification section in the application process?\n",
      "10. Can you guide me on completing the 'Motivation Statement' in the UNDP eRecruit system?\n"
     ]
    }
   ],
   "source": [
    "from openai import OpenAI\n",
    "\n",
    "client = OpenAI(api_key=\"\")  # Replace with OpenAI API key\n",
    "\n",
    "def generate_questions_v2(faq_text):\n",
    "    prompt = f\"\"\"\n",
    "    Based on the following FAQ, generate a list of 10 customer support questions that users might ask:\n",
    "\n",
    "    {faq_text[:2000]}  # Using only first 2000 characters to keep it short\n",
    "\n",
    "    Questions:\n",
    "    \"\"\"\n",
    "\n",
    "    response = client.chat.completions.create(\n",
    "        model=\"gpt-4\",\n",
    "        messages=[{\"role\": \"user\", \"content\": prompt}]\n",
    "    )\n",
    "\n",
    "    return response.choices[0].message.content\n",
    "\n",
    "customer_questions = generate_questions_v2(faq_text)\n",
    "print(customer_questions)"
   ]
  },
  {
   "cell_type": "code",
   "execution_count": 14,
   "metadata": {},
   "outputs": [
    {
     "name": "stdout",
     "output_type": "stream",
     "text": [
      "Control Response:\n",
      " You can access UNDP's eRecruit system through their official website in the Careers section. Here is the link: https://jobs.undp.org/cj_login.cfm. You would need to create an account or login if you already have one, to use their eRecruit system for searching and applying for vacancies.\n"
     ]
    }
   ],
   "source": [
    "#Control Prompt\n",
    "\n",
    "def control_prompt(question):\n",
    "    prompt = f\"{question}\"  # Directly asking the question\n",
    "\n",
    "    response = client.chat.completions.create(\n",
    "        model=\"gpt-4\",\n",
    "        messages=[{\"role\": \"user\", \"content\": prompt}]\n",
    "    )\n",
    "\n",
    "    return response.choices[0].message.content\n",
    "\n",
    "# Test with a sample question\n",
    "sample_question = \"How can I access UNDP’s eRecruit system?\"\n",
    "control_response = control_prompt(sample_question)\n",
    "print(\"Control Response:\\n\", control_response)"
   ]
  },
  {
   "cell_type": "markdown",
   "metadata": {},
   "source": [
    "## Types of prompting\n",
    "\n",
    "For each of the types prompting, perform the following:\n",
    " - Research what the type of prompting is\n",
    " - Create a small explaination of the prompting\n",
    " - Test your type of prompting vs the control prompt (direct question)"
   ]
  },
  {
   "cell_type": "markdown",
   "metadata": {
    "vscode": {
     "languageId": "plaintext"
    }
   },
   "source": [
    "### Zero-Shot Prompting\n",
    "\n",
    "Use the knowledge base to create prompts without examples.\n",
    "Test the model's ability to generate accurate responses based solely on the provided instructions.\n",
    "Assess the performance compared to few-shot prompting."
   ]
  },
  {
   "cell_type": "code",
   "execution_count": 32,
   "metadata": {},
   "outputs": [
    {
     "name": "stdout",
     "output_type": "stream",
     "text": [
      "The purpose of UNDP's eRecruit system is to streamline the recruitment process. It allows applicants to submit and manage their applications online for jobs and internships at UNDP. The system enables UNDP to effectively manage applications and select suitable candidates more efficiently.\n"
     ]
    }
   ],
   "source": [
    "import openai\n",
    "\n",
    "def zero_shot_prompting():\n",
    "    prompt = \"\"\"\n",
    "    You are a customer support assistant. A customer asks: \"What is the purpose of UNDP’s eRecruit system?\"\n",
    "    Provide a clear and concise answer.\n",
    "    \"\"\"\n",
    "\n",
    "    client = openai.OpenAI(api_key=\"\")  \n",
    "    response = client.chat.completions.create(\n",
    "        model=\"gpt-4\",\n",
    "        messages=[{\"role\": \"user\", \"content\": prompt}]\n",
    "    )\n",
    "\n",
    "    return response.choices[0].message.content\n",
    "\n",
    "print(zero_shot_prompting())"
   ]
  },
  {
   "cell_type": "markdown",
   "metadata": {
    "vscode": {
     "languageId": "plaintext"
    }
   },
   "source": [
    "### Few-Shot Prompting\n",
    "\n",
    "Select a few representative emails from each category.\n",
    "Create prompts by including these examples and ask the model to generate responses for new emails.\n",
    "Evaluate the quality and relevance of the responses."
   ]
  },
  {
   "cell_type": "code",
   "execution_count": 34,
   "metadata": {},
   "outputs": [
    {
     "name": "stdout",
     "output_type": "stream",
     "text": [
      "A: \"You can access the UNDP's eRecruit system by visiting their official website. You will see a login page where you can enter your registered email and password. If you have yet to create an account, click on 'Register' and follow the guidelines to set up a new account.\"\n"
     ]
    }
   ],
   "source": [
    "def few_shot_prompting():\n",
    "    prompt = \"\"\"\n",
    "    You are a customer support assistant. Here are examples of customer questions and responses:\n",
    "\n",
    "    Q: \"How do I create an account on UNDP’s eRecruit system?\"\n",
    "    A: \"Visit the official UNDP eRecruit website and click 'Register.' Fill in your details and confirm your email.\"\n",
    "\n",
    "    Q: \"What should I do if I forget my password?\"\n",
    "    A: \"Click 'Forgot Password' on the login page and follow the instructions.\"\n",
    "\n",
    "    Now, a customer asks: \"How can I access UNDP’s eRecruit system?\"\n",
    "    Provide a helpful response.\n",
    "    \"\"\"\n",
    "\n",
    "    client = openai.OpenAI(api_key=\"\")  \n",
    "    response = client.chat.completions.create(\n",
    "        model=\"gpt-4\",\n",
    "        messages=[{\"role\": \"user\", \"content\": prompt}]\n",
    "    )\n",
    "\n",
    "    return response.choices[0].message.content\n",
    "\n",
    "print(few_shot_prompting())\n"
   ]
  },
  {
   "cell_type": "markdown",
   "metadata": {},
   "source": [
    "### Chain of Thought Prompting\n",
    "\n",
    "Develop prompts that guide the model to think through the problem step-by-step before providing the final answer.\n",
    "Analyze if this approach improves the quality of technical support responses.\n"
   ]
  },
  {
   "cell_type": "code",
   "execution_count": 36,
   "metadata": {},
   "outputs": [
    {
     "name": "stdout",
     "output_type": "stream",
     "text": [
      "1. Carefully Review Job Posting: Review the specific job advertisement on the UNDP's official website. This will contain all the necessary details about the vacancy, including the job role, responsibilities, required qualifications, and application deadline.\n",
      "\n",
      "2. Register on eRecruit System: The first important step to apply for a job using UNDP's eRecruit system is to register an account on the platform. This will require providing some basic personal details.\n",
      "\n",
      "3. Complete Personal Profile: After registration, log in to the eRecruit system and complete your personal profile. You have to fill in the required details correctly, which include your education, work experience, language skills, and other competences. \n",
      "\n",
      "4. Tailor Your Application: With a complete profile, then carefully tailor your application to the job you are interested in. Matching your skills and competencies with those required for the job will increase your chances of success.\n",
      "\n",
      "5. Upload Necessary Documents: Upload your updated CV, cover letter and any other documents required by the job advertisement. Be sure to follow any specific instructions provided to ensure your application is properly reviewed.\n",
      "\n",
      "6. Complete Questionnaire: Some job postings may require you to complete a questionnaire. Take your time responding to these questions and ensure your answers align with the qualifications needed for the job.\n",
      "\n",
      "7. Submit Application: Once all sections of your application are complete, and you review it for accuracy and completeness, click the 'Submit Application' button. \n",
      "\n",
      "8. Confirmation Email: After submission, you should receive an email confirmation acknowledging the receipt of your application. \n",
      "\n",
      "9. Monitor your Application Status: Keep an eye on your email and the eRecruit portal for updates regarding your application, such as whether you have been shortlisted, invited for an interview or received a job offer.\n",
      "\n",
      "10. Prepare for Interviews: If shortlisted, you will be contacted for an interview. Prepare for the interview by researching common interview questions, reviewing your application, and learning more about UNDP's work and mission.\n",
      "\n",
      "Always remember to comply with the UNDP's application guidelines, be honest, and ensure your application details are accurate to increase your chances of success.\n"
     ]
    }
   ],
   "source": [
    "def chain_of_thought_prompting():\n",
    "    prompt = \"\"\"\n",
    "    Think step by step to explain the process of applying for a job using UNDP’s eRecruit system.\n",
    "    \"\"\"\n",
    "\n",
    "    client = openai.OpenAI(api_key=\"\")  \n",
    "    response = client.chat.completions.create(\n",
    "        model=\"gpt-4\",\n",
    "        messages=[{\"role\": \"user\", \"content\": prompt}]\n",
    "    )\n",
    "\n",
    "    return response.choices[0].message.content\n",
    "\n",
    "print(chain_of_thought_prompting())\n"
   ]
  },
  {
   "cell_type": "markdown",
   "metadata": {},
   "source": [
    "### Instruction-Based Prompting\n",
    "\n",
    "Write clear and explicit instructions in the prompts for each type of customer inquiry.\n",
    "Measure the effectiveness of detailed instructions in guiding the model."
   ]
  },
  {
   "cell_type": "code",
   "execution_count": 38,
   "metadata": {},
   "outputs": [
    {
     "name": "stdout",
     "output_type": "stream",
     "text": [
      "Yes, it is mandatory to apply for jobs online using UNDP’s eRecruit system. \n",
      "\n",
      "The UNDP has implemented this system to streamline its recruitment process, ensuring that all candidates have equal access to job opportunities and that applications can be effectively tracked and managed. This is their standard procedure and helps to maintain fairness and transparency. \n",
      "\n",
      "However, for those who may find it difficult to access the eRecruit system, it might be worth reaching out to the relevant UNDP office directly to inquire about any possible alternative application methods they might offer. Keep in mind, however, that they may refer you back to the online system, particularly for mainstream positions.\n"
     ]
    }
   ],
   "source": [
    "def instruction_based_prompting():\n",
    "    prompt = \"\"\"\n",
    "    Act as a knowledgeable customer support agent. Follow these instructions:\n",
    "    - Provide a direct yes/no answer first.\n",
    "    - Explain the reasons why.\n",
    "    - Offer alternatives if applicable.\n",
    "    \n",
    "    Question: \"Is it mandatory to apply for jobs online using UNDP’s eRecruit system?\"\n",
    "    \"\"\"\n",
    "\n",
    "    client = openai.OpenAI(api_key=\"\")  \n",
    "    response = client.chat.completions.create(\n",
    "        model=\"gpt-4\",\n",
    "        messages=[{\"role\": \"user\", \"content\": prompt}]\n",
    "    )\n",
    "\n",
    "    return response.choices[0].message.content\n",
    "\n",
    "print(instruction_based_prompting())\n"
   ]
  },
  {
   "cell_type": "markdown",
   "metadata": {},
   "source": [
    "### Role-Playing Prompting\n",
    "\n",
    "Ask the model to respond as a customer service representative or technical support expert.\n",
    "Evaluate how well the model adopts the role and provides relevant information."
   ]
  },
  {
   "cell_type": "code",
   "execution_count": 40,
   "metadata": {},
   "outputs": [
    {
     "name": "stdout",
     "output_type": "stream",
     "text": [
      "The United Nations Development Programme’s eRecuit system typically functions well with most modern web browsers. However, the following have been tested and confirmed to work optimally:\n",
      "\n",
      "1. Microsoft Edge\n",
      "2. Google Chrome\n",
      "3. Mozilla Firefox\n",
      "4. Safari for Mac\n",
      "\n",
      "There may be slight differences in how certain features are displayed or function, depending on which browser version you are using. Therefore, it’s recommended to always update to the latest version of your chosen browser. \n",
      "\n",
      "Please be aware, Internet Explorer is not recommended as it's no longer being updated by Microsoft, and may not support certain features of UNDP's eRecruit system. Additionally, some users have reported problems when using the Safari browser on Windows; therefore, if possible, avoid using it when accessing the UNDP’s eRecruit system on a Windows computer.\n"
     ]
    }
   ],
   "source": [
    "def role_playing_prompting():\n",
    "    prompt = \"\"\"\n",
    "    You are an IT support specialist. A user asks: \"Which web browsers are compatible with UNDP’s eRecruit system?\"\n",
    "    Provide a clear answer, listing compatible browsers and any known issues.\n",
    "    \"\"\"\n",
    "\n",
    "    client = openai.OpenAI(api_key=\"\")  \n",
    "    response = client.chat.completions.create(\n",
    "        model=\"gpt-4\",\n",
    "        messages=[{\"role\": \"user\", \"content\": prompt}]\n",
    "    )\n",
    "\n",
    "    return response.choices[0].message.content\n",
    "\n",
    "print(role_playing_prompting())\n"
   ]
  },
  {
   "cell_type": "markdown",
   "metadata": {},
   "source": [
    "### Contextual Prompting\n",
    "\n",
    "Provide relevant context from previous email threads or the knowledge base before posing the main question.\n",
    "Test if providing context improves the accuracy and relevance of the responses."
   ]
  },
  {
   "cell_type": "code",
   "execution_count": 42,
   "metadata": {},
   "outputs": [
    {
     "name": "stdout",
     "output_type": "stream",
     "text": [
      "Support: While some companies did accept paper applications or applications via email in the past, many have migrated to online systems like eRecruit for efficiency. However, the policies vary from company to company. Can you tell me which company's application you are trying to submit? We can then check the company's specific policies and guide you accordingly.\n"
     ]
    }
   ],
   "source": [
    "def contextual_prompting(previous_interaction):\n",
    "    prompt = f\"\"\"\n",
    "    Here is the previous interaction with the customer:\n",
    "\n",
    "    {previous_interaction}\n",
    "\n",
    "    Based on this, how would you respond to the new question: \"Can I submit paper applications or applications via email instead of using the eRecruit system?\"\n",
    "    \"\"\"\n",
    "\n",
    "    client = openai.OpenAI(api_key=\"\")  \n",
    "    response = client.chat.completions.create(\n",
    "        model=\"gpt-4\",\n",
    "        messages=[{\"role\": \"user\", \"content\": prompt}]\n",
    "    )\n",
    "\n",
    "    return response.choices[0].message.content\n",
    "\n",
    "previous_chat = \"Customer: I have trouble submitting my online application. Support: Have you checked if all required fields are completed?\"\n",
    "print(contextual_prompting(previous_chat))\n"
   ]
  },
  {
   "cell_type": "markdown",
   "metadata": {},
   "source": [
    "### Conversational Prompting\n",
    "\n",
    "Create a dialogue-style prompt where the model continues an ongoing conversation with the customer.\n",
    "Observe how well the model maintains context and coherence in multi-turn conversations."
   ]
  },
  {
   "cell_type": "code",
   "execution_count": 44,
   "metadata": {},
   "outputs": [
    {
     "name": "stdout",
     "output_type": "stream",
     "text": [
      "Support: Absolutely! Once you've created your personal profile on UNDP’s eRecruit system, you can use it to apply for as many jobs as you like. Just make sure that you tailor your application to fit each different job you're applying for. Is there anything else you would like to know?\n"
     ]
    }
   ],
   "source": [
    "def conversational_prompting(conversation_history):\n",
    "    prompt = f\"\"\"\n",
    "    Continue this customer support conversation naturally.\n",
    "\n",
    "    {conversation_history}\n",
    "\n",
    "    Customer: \"Can I apply for multiple jobs using my personal profile on UNDP’s eRecruit system?\"\n",
    "    \"\"\"\n",
    "\n",
    "    client = openai.OpenAI(api_key=\"\")  \n",
    "    response = client.chat.completions.create(\n",
    "        model=\"gpt-4\",\n",
    "        messages=[{\"role\": \"user\", \"content\": prompt}]\n",
    "    )\n",
    "\n",
    "    return response.choices[0].message.content\n",
    "\n",
    "conversation = \"Customer: I created my account on the UNDP eRecruit system. Support: That's great! Let me know how I can assist you.\"\n",
    "print(conversational_prompting(conversation))\n"
   ]
  },
  {
   "cell_type": "markdown",
   "metadata": {},
   "source": [
    "### Contrastive Prompting\n",
    "\n",
    "Show the model examples of both good and bad responses.\n",
    "Use these contrasting examples to guide the model towards generating better responses.\n",
    "Compare the results with other techniques."
   ]
  },
  {
   "cell_type": "code",
   "execution_count": 46,
   "metadata": {},
   "outputs": [
    {
     "name": "stdout",
     "output_type": "stream",
     "text": [
      "\"To fill in your personal information in the UNDP eRecruit system, first, you need to log into your account. Once you're in, navigate to the 'My Profile' section. Here, you'll find a variety of fields to fill in including contact details, work experience, and education. Make sure you complete all this mandatory information. Don't forget to save your changes before logging out to ensure all details are kept up-to-date.\"\n"
     ]
    }
   ],
   "source": [
    "def contrastive_prompting():\n",
    "    prompt = \"\"\"\n",
    "    Below are two responses to a customer question. One is helpful, and one is unhelpful.\n",
    "\n",
    "    Question: \"How can I complete my personal information in the UNDP eRecruit system?\"\n",
    "\n",
    "    Bad response: \"Just fill it in.\"\n",
    "    Good response: \"Log into the UNDP eRecruit system, go to 'My Profile,' and complete all mandatory fields, such as contact details, work experience, and education.\"\n",
    "\n",
    "    Based on this, generate the best response to the question.\n",
    "    \"\"\"\n",
    "\n",
    "    client = openai.OpenAI(api_key=\"\")  \n",
    "    response = client.chat.completions.create(\n",
    "        model=\"gpt-4\",\n",
    "        messages=[{\"role\": \"user\", \"content\": prompt}]\n",
    "    )\n",
    "\n",
    "    return response.choices[0].message.content\n",
    "\n",
    "print(contrastive_prompting())\n"
   ]
  },
  {
   "cell_type": "markdown",
   "metadata": {},
   "source": [
    "### Specificity Prompting\n",
    "\n",
    "Ask the model to respond with a specific style, tone, or level of detail, such as formal, friendly, or concise.\n",
    "Assess how well the model adapts its responses to the specified requirements."
   ]
  },
  {
   "cell_type": "code",
   "execution_count": 48,
   "metadata": {},
   "outputs": [
    {
     "name": "stdout",
     "output_type": "stream",
     "text": [
      "Dear valued customer,\n",
      "\n",
      "The requirements for the training and certification section in the application process are typically a specific set of courses or professional certifications that the applicant must have obtained prior to application. Typically, these are industry-relevant qualifications or specific skill sets that are essential for the role. It will be helpful to refer to the job description to understand what these may entail. \n",
      "\n",
      "If such certifications are not currently held, some companies may allow for applicants to undertake necessary training during the initial period of employment. Precision regarding this would be clearly defined in the job description or, alternatively, could be clarified during the interview process. \n",
      "\n",
      "Please, let us know if you require any further information on this matter. \n",
      "\n",
      "Kind regards,\n",
      "\n",
      "[Your Name].\n",
      "Answer: Hi! Great question. In the training and certification section of the application process, you're required to list any relevant training or certifications you've obtained that align with the position you're applying for. This could include formal education, online courses, professional certificates etc. Each qualification should be listed separately with the name of the certification, where you obtained it, and the date it was awarded. If you have any more questions, feel free to ask!\n"
     ]
    }
   ],
   "source": [
    "def specificity_prompting(tone):\n",
    "    prompt = f\"\"\"\n",
    "    Respond to the customer's question in a {tone} tone.\n",
    "\n",
    "    Question: \"What is the requirement for the training and certification section in the application process?\"\n",
    "    \"\"\"\n",
    "\n",
    "    client = openai.OpenAI(api_key=\"\")  \n",
    "    response = client.chat.completions.create(\n",
    "        model=\"gpt-4\",\n",
    "        messages=[{\"role\": \"user\", \"content\": prompt}]\n",
    "    )\n",
    "\n",
    "    return response.choices[0].message.content\n",
    "\n",
    "print(specificity_prompting(\"formal\"))\n",
    "print(specificity_prompting(\"friendly\"))\n"
   ]
  },
  {
   "cell_type": "markdown",
   "metadata": {},
   "source": [
    "### Iterative Refinement Prompting\n",
    "\n",
    "Ask the model to refine or improve upon its previous response.\n",
    "Experiment with multiple iterations to see if responses improve over time."
   ]
  },
  {
   "cell_type": "code",
   "execution_count": 50,
   "metadata": {},
   "outputs": [
    {
     "name": "stdout",
     "output_type": "stream",
     "text": [
      "Absolutely, I'd be glad to help. The 'Motivation Statement' in the UNDP eRecruit system is analogous to a cover letter. Here's a more detailed and comprehensive guide on how to draft it effectively:\n",
      "\n",
      "1. **Introduction**: Begin by providing an overview of who you are. You should include relevant details such as your current professional role or the most recent degree you've achieved. This sets a context for evaluating your fit for the role.\n",
      "\n",
      "2. **Relevance to the Specific Role**: Following this, relate your particular skills and prior experiences to the job role you are applying for. It's crucial to refer to specific examples that demonstrate how your previous work or research correlates with the objectives of the targeted position.\n",
      "\n",
      "3. **Understanding of UNDP**: Display your comprehension and awareness of UNDP and its numerous initiatives. Make it a point to express why you're drawn towards being a part of UNDP and what fuels your motivation to apply. \n",
      "\n",
      "4. **Conclusion**: In conclusion, briefly consolidate your skills, experiences, and motivation. Affirm that you're excited about the prospect of contributing to the organization and making a difference. \n",
      "\n",
      "Remember to keep this statement brief and focused - your aim is to impress upon the reader your commitment, zest, and suitability for the desired role. Choose a professional tone and vocabulary, steering clear of industry jargon or complicated phrases that may be off-putting. Always remember to proofread your statement before submission to eliminate any grammatical mistakes or typographical errors.\n"
     ]
    }
   ],
   "source": [
    "def iterative_refinement_prompting():\n",
    "    prompt = \"\"\"\n",
    "    Generate a first draft of the response.\n",
    "\n",
    "    Question: \"Can you guide me on completing the 'Motivation Statement' in the UNDP eRecruit system?\"\n",
    "    \"\"\"\n",
    "\n",
    "    client = openai.OpenAI(api_key=\"\")  \n",
    "    response1 = client.chat.completions.create(\n",
    "        model=\"gpt-4\",\n",
    "        messages=[{\"role\": \"user\", \"content\": prompt}]\n",
    "    )\n",
    "\n",
    "    first_draft = response1.choices[0].message.content\n",
    "\n",
    "    refinement_prompt = f\"\"\"\n",
    "    Improve this response for clarity and completeness:\n",
    "\n",
    "    {first_draft}\n",
    "    \"\"\"\n",
    "\n",
    "    response2 = client.chat.completions.create(\n",
    "        model=\"gpt-4\",\n",
    "        messages=[{\"role\": \"user\", \"content\": refinement_prompt}]\n",
    "    )\n",
    "\n",
    "    return response2.choices[0].message.content\n",
    "\n",
    "print(iterative_refinement_prompting())\n"
   ]
  },
  {
   "cell_type": "code",
   "execution_count": null,
   "metadata": {},
   "outputs": [],
   "source": []
  }
 ],
 "metadata": {
  "kernelspec": {
   "display_name": "Python [conda env:base] *",
   "language": "python",
   "name": "conda-base-py"
  },
  "language_info": {
   "codemirror_mode": {
    "name": "ipython",
    "version": 3
   },
   "file_extension": ".py",
   "mimetype": "text/x-python",
   "name": "python",
   "nbconvert_exporter": "python",
   "pygments_lexer": "ipython3",
   "version": "3.12.7"
  }
 },
 "nbformat": 4,
 "nbformat_minor": 4
}
